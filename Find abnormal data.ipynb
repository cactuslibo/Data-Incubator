{
 "cells": [
  {
   "cell_type": "code",
   "execution_count": 2,
   "metadata": {},
   "outputs": [
    {
     "name": "stdout",
     "output_type": "stream",
     "text": [
      "1.0\n",
      "2.0\n",
      "3.0\n",
      "4.0\n",
      "5.0\n",
      "6.0\n",
      "7.0\n",
      "8.0\n",
      "9.0\n",
      "10.0\n",
      "11.0\n",
      "12.0\n",
      "13.0\n",
      "14.0\n",
      "15.0\n",
      "16.0\n",
      "17.0\n",
      "18.0\n",
      "19.0\n",
      "20.0\n",
      "21.0\n",
      "22.0\n",
      "23.0\n",
      "24.0\n",
      "25.0\n",
      "26.0\n",
      "27.0\n",
      "28.0\n",
      "29.0\n",
      "30.0\n",
      "31.0\n",
      "32.0\n",
      "33.0\n",
      "34.0\n",
      "35.0\n",
      "36.0\n",
      "37.0\n",
      "38.0\n",
      "39.0\n",
      "40.0\n",
      "41.0\n",
      "42.0\n",
      "43.0\n",
      "44.0\n",
      "45.0\n",
      "46.0\n",
      "47.0\n",
      "48.0\n",
      "49.0\n",
      "50.0\n",
      "51.0\n",
      "52.0\n",
      "53.0\n",
      "54.0\n",
      "55.0\n",
      "56.0\n",
      "57.0\n",
      "58.0\n",
      "59.0\n",
      "60.0\n",
      "61.0\n",
      "62.0\n",
      "63.0\n",
      "64.0\n",
      "65.0\n",
      "66.0\n",
      "67.0\n",
      "68.0\n",
      "69.0\n",
      "70.0\n",
      "71.0\n",
      "72.0\n",
      "73.0\n",
      "74.0\n"
     ]
    }
   ],
   "source": [
    "f = open(\"../Data/train.csv\", \"r\")\n",
    "f.readline()\n",
    "total=0\n",
    "path = 'wierd.csv'\n",
    "out = open(path, \"w\")\n",
    "out.write(\"Semana,Agencia_ID,Canal_ID,Ruta_SAK,Cliente_ID,Producto_ID,Venta_uni_hoy,Venta_hoy,Dev_uni_proxima,Dev_proxima,Demanda_uni_equil\\n\")\n",
    "while 1:\n",
    "    line = f.readline().strip()\n",
    "    total += 1\n",
    "\n",
    "    if total % 1000000 == 0:\n",
    "        print (total/1000000)\n",
    "\n",
    "    if line == '':\n",
    "        break\n",
    "        \n",
    "    arr = line.split(\",\")\n",
    "    week = int(arr[0])\n",
    "    agency = arr[1]\n",
    "    canal_id = arr[2]\n",
    "    ruta_sak = arr[3]\n",
    "    cliente_id = arr[4]\n",
    "    producto_id = arr[5]\n",
    "    vuh = int(arr[6])\n",
    "    vh = arr[7]\n",
    "    dup = int(arr[8])\n",
    "    dp = arr[9]\n",
    "    target = arr[10]\n",
    "    \n",
    "    if vuh-dup<0:\n",
    "        out.write(str(week)+','+agency+','+canal_id+','+ruta_sak+','+cliente_id+','+producto_id+','+str(vuh)+','+vh+','+str(dup)+','+dp+','+target+'\\n')\n",
    "\n",
    "out.close()\n",
    "f.close()   "
   ]
  },
  {
   "cell_type": "code",
   "execution_count": 3,
   "metadata": {},
   "outputs": [
    {
     "name": "stdout",
     "output_type": "stream",
     "text": [
      "wierd 615828\n"
     ]
    }
   ],
   "source": [
    "import pandas as pd # data processing, CSV file I/O (e.g. pd.read_csv)\n",
    "wierd = pd.read_csv('wierd.csv', usecols=['Cliente_ID'])\n",
    "print (\"wierd\",len(wierd))\n"
   ]
  },
  {
   "cell_type": "code",
   "execution_count": null,
   "metadata": {},
   "outputs": [],
   "source": []
  }
 ],
 "metadata": {
  "kernelspec": {
   "display_name": "Python 3",
   "language": "python",
   "name": "python3"
  },
  "language_info": {
   "codemirror_mode": {
    "name": "ipython",
    "version": 3
   },
   "file_extension": ".py",
   "mimetype": "text/x-python",
   "name": "python",
   "nbconvert_exporter": "python",
   "pygments_lexer": "ipython3",
   "version": "3.7.4"
  }
 },
 "nbformat": 4,
 "nbformat_minor": 1
}
