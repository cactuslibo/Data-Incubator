{
 "cells": [
  {
   "cell_type": "code",
   "execution_count": 1,
   "metadata": {
    "collapsed": true
   },
   "outputs": [],
   "source": [
    "from collections import defaultdict\n",
    "import gc\n",
    "import datetime\n",
    "import time\n"
   ]
  },
  {
   "cell_type": "code",
   "execution_count": 1,
   "metadata": {
    "scrolled": true
   },
   "outputs": [
    {
     "data": {
      "text/plain": [
       "80"
      ]
     },
     "execution_count": 1,
     "metadata": {},
     "output_type": "execute_result"
    }
   ],
   "source": [
    "path='consecutive_demand.csv'\n",
    "out=open(path,\"w\")\n",
    "f = open(\"../Data/Demandallweeks.csv\", \"r\")\n",
    "f.readline()\n",
    "total=0\n",
    "out.write(\"id,superid,Cliente_ID,Producto_ID,week3,week4,week5,week6,week7,week8,week9,sum\\n\")"
   ]
  },
  {
   "cell_type": "code",
   "execution_count": 3,
   "metadata": {},
   "outputs": [
    {
     "name": "stdout",
     "output_type": "stream",
     "text": [
      "27.864000082 line 1\n",
      "38.2160000801 line 2\n",
      "48.1259999275 line 3\n",
      "58.006000042 line 4\n",
      "67.8510000706 line 5\n",
      "77.7190001011 line 6\n"
     ]
    }
   ],
   "source": [
    "while 1:\n",
    "    line = f.readline().strip()\n",
    "    if line == '':\n",
    "        break\n",
    "\n",
    "    arr = line.split(\",\")\n",
    "    ID = arr[0]\n",
    "    superid = int(arr[1])\n",
    "    cliente_id = int(arr[2])\n",
    "    producto_id = int(arr[3])\n",
    "    week3 = int(arr[4])\n",
    "    week4 = int(arr[5])\n",
    "    week5 = int(arr[6])\n",
    "    week6 = int(arr[7])\n",
    "    week7 = int(arr[8])\n",
    "    week8 = int(arr[9])\n",
    "    week9 = int(arr[10])\n",
    "    Sum = week3+week4+week5+week6+week7+week8+week9\n",
    "    consecutive = week3*week4*week5*week6*week7*week8*week9\n",
    "    if consecutive !=0:\n",
    "        out.write(str(ID)+','+str(superid)+','+str(cliente_id)+','+str(producto_id)+','+str(week3)+','+str(week4)+','\n",
    "               +str(week5)+','+str(week6)+','+str(week7)+','+str(week8)+','+str(week9)+','+str(Sum))\n",
    "        out.write(\"\\n\")\n",
    "\n",
    "    \n",
    "out.close()\n",
    "f.close()"
   ]
  },
  {
   "cell_type": "code",
   "execution_count": null,
   "metadata": {
    "collapsed": true
   },
   "outputs": [],
   "source": []
  }
 ],
 "metadata": {
  "kernelspec": {
   "display_name": "Python 3",
   "language": "python",
   "name": "python3"
  },
  "language_info": {
   "codemirror_mode": {
    "name": "ipython",
    "version": 3
   },
   "file_extension": ".py",
   "mimetype": "text/x-python",
   "name": "python",
   "nbconvert_exporter": "python",
   "pygments_lexer": "ipython3",
   "version": "3.7.4"
  }
 },
 "nbformat": 4,
 "nbformat_minor": 1
}
